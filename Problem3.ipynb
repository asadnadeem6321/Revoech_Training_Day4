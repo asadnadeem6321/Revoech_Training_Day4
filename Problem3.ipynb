{
 "cells": [
  {
   "cell_type": "code",
   "execution_count": null,
   "id": "69bdbfb8-6929-41d1-b3d4-b78b94a262ef",
   "metadata": {},
   "outputs": [],
   "source": [
    "\"\"\"\n",
    "Ask the user for a string and print out whether this string is a palindrome or not.\n",
    "(A palindrome is a string that reads the same forwards and backwards.)\n",
    "\"\"\""
   ]
  },
  {
   "cell_type": "code",
   "execution_count": 5,
   "id": "a221ce58-f50e-4ecd-afea-307a124adc77",
   "metadata": {},
   "outputs": [
    {
     "name": "stdin",
     "output_type": "stream",
     "text": [
      "Please Enter your name:  kayak\n"
     ]
    },
    {
     "name": "stdout",
     "output_type": "stream",
     "text": [
      "kayak\n",
      "This kayak Expression is an Palindrome. \n"
     ]
    }
   ],
   "source": [
    "a = input(\"Please Enter your name: \")\n",
    "b = a[::-1]\n",
    "print(b)\n",
    "if a == b:\n",
    "    print (f\"This {a} Expression is an Palindrome. \")\n",
    "else:\n",
    "    print (f\"This {a} Expression is not Palindrome. \")"
   ]
  },
  {
   "cell_type": "code",
   "execution_count": null,
   "id": "6c7f2952-c987-4c12-a211-965eebf88871",
   "metadata": {},
   "outputs": [],
   "source": []
  }
 ],
 "metadata": {
  "kernelspec": {
   "display_name": "Python 3 (ipykernel)",
   "language": "python",
   "name": "python3"
  },
  "language_info": {
   "codemirror_mode": {
    "name": "ipython",
    "version": 3
   },
   "file_extension": ".py",
   "mimetype": "text/x-python",
   "name": "python",
   "nbconvert_exporter": "python",
   "pygments_lexer": "ipython3",
   "version": "3.10.12"
  }
 },
 "nbformat": 4,
 "nbformat_minor": 5
}
