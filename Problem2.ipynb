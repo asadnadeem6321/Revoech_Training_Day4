{
 "cells": [
  {
   "cell_type": "code",
   "execution_count": null,
   "id": "aa5345b9-3de7-467b-baae-b878c9825ef3",
   "metadata": {},
   "outputs": [],
   "source": [
    "\"\"\"\n",
    "Write a program (using functions!) that asks the user for a long string containing multiple words. \n",
    "Print back to the user the same string, except with the words in backwards order. For example, say I type the string:\n",
    "\n",
    "  My name is Michele\n",
    "Then I would see the string:\n",
    "\n",
    "  Michele is name My\n",
    "shown back to me.\n",
    "\"\"\""
   ]
  },
  {
   "cell_type": "code",
   "execution_count": 21,
   "id": "34401f3c-3d4b-4616-a3bd-644c5a899ea0",
   "metadata": {},
   "outputs": [
    {
     "name": "stdin",
     "output_type": "stream",
     "text": [
      "Please enter your complete name:  my name is Michele\n"
     ]
    },
    {
     "name": "stdout",
     "output_type": "stream",
     "text": [
      "None\n"
     ]
    }
   ],
   "source": [
    "a = input ( \"Please enter your complete name: \")\n",
    "b = a[::-1]\n",
    "b = list(a)\n",
    "c = b.reverse()\n",
    "d = str(c)\n",
    "print(d)\n",
    "    \n",
    "    #while i in a:\n",
    " #   print(f\"{i--}\")\n",
    "  #  i -= 1"
   ]
  },
  {
   "cell_type": "code",
   "execution_count": null,
   "id": "57b90378-37bc-462f-9211-d22f074c54e8",
   "metadata": {},
   "outputs": [],
   "source": []
  }
 ],
 "metadata": {
  "kernelspec": {
   "display_name": "Python 3 (ipykernel)",
   "language": "python",
   "name": "python3"
  },
  "language_info": {
   "codemirror_mode": {
    "name": "ipython",
    "version": 3
   },
   "file_extension": ".py",
   "mimetype": "text/x-python",
   "name": "python",
   "nbconvert_exporter": "python",
   "pygments_lexer": "ipython3",
   "version": "3.10.12"
  }
 },
 "nbformat": 4,
 "nbformat_minor": 5
}
