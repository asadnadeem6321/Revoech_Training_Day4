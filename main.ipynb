{
 "cells": [
  {
   "cell_type": "code",
   "execution_count": 1,
   "id": "49dd90f0-0a18-487f-be2e-272a2af9744e",
   "metadata": {},
   "outputs": [
    {
     "name": "stdout",
     "output_type": "stream",
     "text": [
      "Revoech_Training_Day4\n"
     ]
    }
   ],
   "source": [
    "print(\"Revoech_Training_Day4\")"
   ]
  },
  {
   "cell_type": "code",
   "execution_count": 4,
   "id": "27655a14-7982-4f08-ac0f-7396318a8f7d",
   "metadata": {},
   "outputs": [
    {
     "name": "stdin",
     "output_type": "stream",
     "text": [
      "Enter any number:  9\n"
     ]
    },
    {
     "name": "stdout",
     "output_type": "stream",
     "text": [
      "9 * 1 = 9 \n",
      "9 * 2 = 18 \n",
      "9 * 3 = 27 \n",
      "9 * 4 = 36 \n",
      "9 * 5 = 45 \n",
      "9 * 6 = 54 \n",
      "9 * 7 = 63 \n",
      "9 * 8 = 72 \n",
      "9 * 9 = 81 \n",
      "9 * 10 = 90 \n"
     ]
    }
   ],
   "source": [
    "a = int(input(\"Enter any number: \"))\n",
    "for i in range(1,11):\n",
    "    print (f\"{a} * {i} = {a*i} \")"
   ]
  },
  {
   "cell_type": "code",
   "execution_count": 7,
   "id": "8cab36f0-f7eb-46e8-b6f5-26aee62cf527",
   "metadata": {},
   "outputs": [
    {
     "name": "stdin",
     "output_type": "stream",
     "text": [
      "Enter any Number:  3\n"
     ]
    },
    {
     "name": "stdout",
     "output_type": "stream",
     "text": [
      "3 is odd number\n"
     ]
    }
   ],
   "source": [
    "num = int(input(\"Enter any Number: \"))\n",
    "if num%2==0:\n",
    "    print (f\"{num} is even number\")\n",
    "else:\n",
    "    print (f\"{num} is odd number\")"
   ]
  },
  {
   "cell_type": "code",
   "execution_count": 8,
   "id": "2230b8b0-9e07-457e-be13-586066c19129",
   "metadata": {},
   "outputs": [
    {
     "name": "stdin",
     "output_type": "stream",
     "text": [
      "Enter First Number:  12\n",
      "Enter Second Number:  34\n",
      "Enter Third Number:  5\n"
     ]
    },
    {
     "name": "stdout",
     "output_type": "stream",
     "text": [
      "34 is largest number. \n"
     ]
    }
   ],
   "source": [
    "num1 = int(input(\"Enter First Number: \"))\n",
    "num2 = int(input(\"Enter Second Number: \"))\n",
    "num3 = int(input(\"Enter Third Number: \"))\n",
    "if num1 > num3 and num1 > num2:\n",
    "    print(f\"{num1} is largest number. \")\n",
    "elif num2 > num3 and num2 > num1:\n",
    "    print(f\"{num2} is largest number. \")\n",
    "else:\n",
    "    print(f\"{num3} is largest number. \")"
   ]
  },
  {
   "cell_type": "code",
   "execution_count": 11,
   "id": "75a3f8ca-6414-4be7-b9e2-d7feddd51bb7",
   "metadata": {},
   "outputs": [
    {
     "name": "stdin",
     "output_type": "stream",
     "text": [
      "Enter First Number:  12\n",
      "Enter Second Number:  45\n",
      "Enter any operator: +, - , / , *, % : +\n"
     ]
    },
    {
     "name": "stdout",
     "output_type": "stream",
     "text": [
      "12 + 45 = 57\n"
     ]
    }
   ],
   "source": [
    "num1 = int(input(\"Enter First Number: \"))\n",
    "num2 = int(input(\"Enter Second Number: \"))\n",
    "oper = input(\"Enter any operator: +, - , / , *, % :\")\n",
    "if oper == \"+\":\n",
    "    print (f\"{num1} + {num2} = {num1+num2}\")\n",
    "elif oper == \"-\":\n",
    "    print (f\"{num1} - {num2} = {num1-num2}\")\n",
    "elif oper == \"/\":\n",
    "    print (f\"{num1} / {num2} = {num1/num2}\")\n",
    "elif oper == \"*\":\n",
    "    print (f\"{num1} * {num2} = {num1*num2}\")\n",
    "elif oper == \"%\":\n",
    "    print (f\"{num1} % {num2} = {num1%num2}\")\n",
    "else:\n",
    "    print (f\"{oper} is not a valid Operator.\")"
   ]
  },
  {
   "cell_type": "code",
   "execution_count": 14,
   "id": "3c8f4936-0c29-4483-b917-39cf5df1de43",
   "metadata": {},
   "outputs": [
    {
     "name": "stdin",
     "output_type": "stream",
     "text": [
      "Enter a Number:  1\n"
     ]
    },
    {
     "name": "stdout",
     "output_type": "stream",
     "text": [
      "Positive Number Entered\n"
     ]
    }
   ],
   "source": [
    "num1 = int(input(\"Enter a Number: \"))\n",
    "if num1 > 0 :\n",
    "    print(\"Positive Number Entered\")\n",
    "elif num1 < 0 :\n",
    "    print(\"Negative Number Entered. \")\n",
    "else:\n",
    "    print(\"Zero Entered\")\n",
    "    "
   ]
  },
  {
   "cell_type": "code",
   "execution_count": null,
   "id": "a50f4d3f-b8e2-49ce-8437-d84e88ee4050",
   "metadata": {},
   "outputs": [],
   "source": []
  }
 ],
 "metadata": {
  "kernelspec": {
   "display_name": "Python 3 (ipykernel)",
   "language": "python",
   "name": "python3"
  },
  "language_info": {
   "codemirror_mode": {
    "name": "ipython",
    "version": 3
   },
   "file_extension": ".py",
   "mimetype": "text/x-python",
   "name": "python",
   "nbconvert_exporter": "python",
   "pygments_lexer": "ipython3",
   "version": "3.10.12"
  }
 },
 "nbformat": 4,
 "nbformat_minor": 5
}
